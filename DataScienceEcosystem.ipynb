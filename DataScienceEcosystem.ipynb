{
 "cells": [
  {
   "cell_type": "markdown",
   "id": "994247a6-e1b9-49a4-afb7-d2dabbd75ff7",
   "metadata": {},
   "source": [
    "# <h1> **Data Science Tools and Ecosystem** </h1>\n",
    "\n",
    "\n"
   ]
  },
  {
   "cell_type": "markdown",
   "id": "5c7bf6f9-db32-46d0-bac8-bac254b09267",
   "metadata": {},
   "source": [
    "In this notebook, Data science Tools and Ecosystem are summarized"
   ]
  },
  {
   "cell_type": "markdown",
   "id": "85b04bfb-3b64-458f-9630-1cf6ad915431",
   "metadata": {},
   "source": [
    "**Objectives:**\n",
    "\n",
    "* List popular languages for Data Science\n",
    "* List popular libraries for Data Science\n",
    "* List popular tools for Data Science\n",
    "* Perform arithmetic expressions"
   ]
  },
  {
   "cell_type": "markdown",
   "id": "f9332f9b-f6da-478e-a512-339749026783",
   "metadata": {},
   "source": [
    "Some of the commonly used languages used by Data Scientists include:\n",
    "\n",
    "1. Python\n",
    "2. R\n",
    "3. SQL\n",
    "4. Julia\n"
   ]
  },
  {
   "cell_type": "markdown",
   "id": "70561b0a-28c0-473b-abc8-02100bd39648",
   "metadata": {},
   "source": [
    "Some of the commonly used libraries used by Data Scientists include:\n",
    "\n",
    "1. Numpy\n",
    "2. Matplotlib\n",
    "3. Pandas\n",
    "4. Scipy\n",
    "5. Seaborn"
   ]
  },
  {
   "cell_type": "markdown",
   "id": "14ba63d7-74d0-4dae-b0cd-261d8a1c8c65",
   "metadata": {},
   "source": [
    "Data Science Tools|\n",
    "|:-|\n",
    "RStudio\n",
    "JupyterLab\n",
    "Apache Spark\n",
    "Apache Hadoop"
   ]
  },
  {
   "cell_type": "markdown",
   "id": "cc4ec2d8-6a0e-4175-afd4-fd5dfdc951f7",
   "metadata": {},
   "source": [
    "## <h3> Below are a few examples of evaluating arithmetic expressions in Python </h3>"
   ]
  },
  {
   "cell_type": "markdown",
   "id": "0f709476-941b-48a2-b9a2-7af8c1b3b05f",
   "metadata": {},
   "source": [
    "*This is a simple arithmetic expression to mutiply then add integers*"
   ]
  },
  {
   "cell_type": "code",
   "execution_count": 63,
   "id": "cf214d1e-5781-47a1-9a6e-7f881e75e0ca",
   "metadata": {},
   "outputs": [
    {
     "data": {
      "text/plain": [
       "17"
      ]
     },
     "execution_count": 63,
     "metadata": {},
     "output_type": "execute_result"
    }
   ],
   "source": [
    "(3*4)+5"
   ]
  },
  {
   "cell_type": "markdown",
   "id": "1f8acd27-0cc9-4d1a-a7cd-7a7679f0b2a7",
   "metadata": {},
   "source": [
    "*This will convert 200 minutes to hours by dividing by 60*"
   ]
  },
  {
   "cell_type": "code",
   "execution_count": 66,
   "id": "d78e0bda-fd46-42cb-b923-aab1e5ab8bcc",
   "metadata": {},
   "outputs": [
    {
     "data": {
      "text/plain": [
       "3.3333333333333335"
      ]
     },
     "execution_count": 66,
     "metadata": {},
     "output_type": "execute_result"
    }
   ],
   "source": [
    "200/60"
   ]
  },
  {
   "cell_type": "markdown",
   "id": "02aac565-3298-4027-9879-4726302f05bc",
   "metadata": {},
   "source": [
    "###\n",
    "<h2>Author</h2>"
   ]
  },
  {
   "cell_type": "markdown",
   "id": "d3dcb0f4-42b9-4639-9177-76e5c1d52e48",
   "metadata": {},
   "source": [
    "Gabriel Santana"
   ]
  }
 ],
 "metadata": {
  "kernelspec": {
   "display_name": "Python 3 (ipykernel)",
   "language": "python",
   "name": "python3"
  },
  "language_info": {
   "codemirror_mode": {
    "name": "ipython",
    "version": 3
   },
   "file_extension": ".py",
   "mimetype": "text/x-python",
   "name": "python",
   "nbconvert_exporter": "python",
   "pygments_lexer": "ipython3",
   "version": "3.12.4"
  }
 },
 "nbformat": 4,
 "nbformat_minor": 5
}
